{
  "nbformat": 4,
  "nbformat_minor": 0,
  "metadata": {
    "colab": {
      "provenance": [],
      "authorship_tag": "ABX9TyPHFh60LMjDHQnaxishxGxZ",
      "include_colab_link": true
    },
    "kernelspec": {
      "name": "python3",
      "display_name": "Python 3"
    },
    "language_info": {
      "name": "python"
    }
  },
  "cells": [
    {
      "cell_type": "markdown",
      "metadata": {
        "id": "view-in-github",
        "colab_type": "text"
      },
      "source": [
        "<a href=\"https://colab.research.google.com/github/shiv3589/linear_decision_Tree_Regressor/blob/main/Exam_Score_Predictor_advanced_analytics.ipynb\" target=\"_parent\"><img src=\"https://colab.research.google.com/assets/colab-badge.svg\" alt=\"Open In Colab\"/></a>"
      ]
    },
    {
      "cell_type": "markdown",
      "source": [
        "Exam Score Predictor"
      ],
      "metadata": {
        "id": "MGkT2zorieiR"
      }
    },
    {
      "cell_type": "code",
      "execution_count": 1,
      "metadata": {
        "colab": {
          "base_uri": "https://localhost:8080/"
        },
        "id": "LEyyh98BiOag",
        "outputId": "33672a4f-ba7a-4f7b-d9d2-2e8ef9010ec0"
      },
      "outputs": [
        {
          "output_type": "stream",
          "name": "stdout",
          "text": [
            "✅ Libraries loaded!\n"
          ]
        }
      ],
      "source": [
        "# Step 1: Import Libraries\n",
        "import pandas as pd\n",
        "import matplotlib.pyplot as plt\n",
        "from sklearn.linear_model import LinearRegression\n",
        "from sklearn.tree import DecisionTreeRegressor # Import Decision Tree Regressor\n",
        "from sklearn.model_selection import train_test_split\n",
        "\n",
        "print(\"✅ Libraries loaded!\")"
      ]
    },
    {
      "cell_type": "code",
      "source": [
        "# Step 2: Create Sample Data (Hours Studied vs. Exam Score)\n",
        "data = {\n",
        "    \"Hours_Studied\": [1, 2, 3, 4, 5, 6, 7, 8, 9, 10],\n",
        "    \"Exam_Score\": [20, 40, 60, 65, 70, 80, 85, 90, 95, 100]\n",
        "}\n",
        "\n",
        "df = pd.DataFrame(data)\n",
        "print(\"📊 Sample Data:\")\n",
        "print(df)\n",
        "\n",
        "# Plot the data\n",
        "plt.scatter(df[\"Hours_Studied\"], df[\"Exam_Score\"])\n",
        "plt.title(\"Hours Studied vs. Exam Score\")\n",
        "plt.xlabel(\"Hours Studied\")\n",
        "plt.ylabel(\"Exam Score (%)\")\n",
        "plt.show()"
      ],
      "metadata": {
        "colab": {
          "base_uri": "https://localhost:8080/",
          "height": 680
        },
        "id": "4gXF07mIirwd",
        "outputId": "b2396a6b-e866-4fed-fa5d-43180759e7db"
      },
      "execution_count": 2,
      "outputs": [
        {
          "output_type": "stream",
          "name": "stdout",
          "text": [
            "📊 Sample Data:\n",
            "   Hours_Studied  Exam_Score\n",
            "0              1          20\n",
            "1              2          40\n",
            "2              3          60\n",
            "3              4          65\n",
            "4              5          70\n",
            "5              6          80\n",
            "6              7          85\n",
            "7              8          90\n",
            "8              9          95\n",
            "9             10         100\n"
          ]
        },
        {
          "output_type": "display_data",
          "data": {
            "text/plain": [
              "<Figure size 640x480 with 1 Axes>"
            ],
            "image/png": "[encoded data removed]"
          },
          "metadata": {}
        }
      ]
    },
    {
      "cell_type": "code",
      "source": [
        "# Step 3: Prepare Data for ML\n",
        "X = df[\"Hours_Studied\"]  # Input features including Sleep_Hours\n",
        "y = df[\"Exam_Score\"]       # Target\n",
        "\n",
        "# Use only the first 2 rows for training\n",
        "X_train, y_train = X.head(2), y.head(2)\n",
        "X_test, y_test = X.tail(8), y.tail(8) # Use the remaining data for testing (or a separate test set if available)\n",
        "\n",
        "# Reshape X_train and X_test to be 2D arrays\n",
        "X_train = X_train.values.reshape(-1, 1)\n",
        "X_test = X_test.values.reshape(-1, 1)\n",
        "\n",
        "print(\"✂️ Training Data:\", X_train.shape)\n",
        "print(\"✂️ Testing Data:\", X_test.shape)"
      ],
      "metadata": {
        "colab": {
          "base_uri": "https://localhost:8080/"
        },
        "id": "u8M60jmejDR9",
        "outputId": "c4ddac09-9c5b-4dfc-cf2e-70fc4c501342"
      },
      "execution_count": 7,
      "outputs": [
        {
          "output_type": "stream",
          "name": "stdout",
          "text": [
            "✂️ Training Data: (2, 1)\n",
            "✂️ Testing Data: (8, 1)\n"
          ]
        }
      ]
    },
    {
      "cell_type": "code",
      "source": [
        "# Step 4: Train the Model\n",
        "model = LinearRegression()\n",
        "model.fit(X_train, y_train) # Train with updated X_train including Sleep_Hours\n",
        "\n",
        "print(\"🤖 Model trained!\")\n",
        "print(\"Model Slope (Coefficient):\", model.coef_) # Display coefficients for all features\n",
        "print(\"Model Intercept:\", model.intercept_)"
      ],
      "metadata": {
        "colab": {
          "base_uri": "https://localhost:8080/"
        },
        "id": "9LVmqFKyjpZ-",
        "outputId": "9bc2892b-e66b-4659-d6df-ac851120fd35"
      },
      "execution_count": 8,
      "outputs": [
        {
          "output_type": "stream",
          "name": "stdout",
          "text": [
            "🤖 Model trained!\n",
            "Model Slope (Coefficient): [20.]\n",
            "Model Intercept: 1.0658141036401503e-14\n"
          ]
        }
      ]
    },
    {
      "cell_type": "code",
      "source": [],
      "metadata": {
        "id": "6doXfxDVj1b4"
      },
      "execution_count": null,
      "outputs": []
    },
    {
      "cell_type": "code",
      "source": [
        "# Step 5: Make Predictions\n",
        "y_pred = model.predict(X_test)\n",
        "print(\"🧠 Model Predictions vs Actual:\")\n",
        "print(pd.DataFrame({\"Actual\": y_test, \"Predicted\": y_pred}))\n",
        "\n",
        "# Plot the regression line\n",
        "plt.scatter(X, y, color=\"blue\")\n",
        "plt.plot(X.values.reshape(-1, 1), model.predict(X.values.reshape(-1, 1)), color=\"red\")\n",
        "plt.title(\"Regression Line\")\n",
        "plt.show()"
      ],
      "metadata": {
        "colab": {
          "base_uri": "https://localhost:8080/",
          "height": 626
        },
        "id": "ASino9YbjHTr",
        "outputId": "487cff62-fbb5-4d8a-f431-2020b697c1b4"
      },
      "execution_count": 10,
      "outputs": [
        {
          "output_type": "stream",
          "name": "stdout",
          "text": [
            "🧠 Model Predictions vs Actual:\n",
            "   Actual  Predicted\n",
            "2      60       60.0\n",
            "3      65       80.0\n",
            "4      70      100.0\n",
            "5      80      120.0\n",
            "6      85      140.0\n",
            "7      90      160.0\n",
            "8      95      180.0\n",
            "9     100      200.0\n"
          ]
        },
        {
          "output_type": "display_data",
          "data": {
            "text/plain": [
              "<Figure size 640x480 with 1 Axes>"
            ],
            "image/png": "[encoded data removed]"
          },
          "metadata": {}
        }
      ]
    },
    {
      "cell_type": "code",
      "source": [
        "# Step 6: Evaluate the Model\n",
        "score = model.score(X_test, y_test)\n",
        "print(\"📝 Model Accuracy (R² Score):\", round(score * 100, 2), \"%\")"
      ],
      "metadata": {
        "colab": {
          "base_uri": "https://localhost:8080/"
        },
        "id": "ugKRNEuvj3-n",
        "outputId": "4866ee14-95bc-417c-9e7e-937037fbd83c"
      },
      "execution_count": 11,
      "outputs": [
        {
          "output_type": "stream",
          "name": "stdout",
          "text": [
            "📝 Model Accuracy (R² Score): -1793.84 %\n"
          ]
        }
      ]
    },
    {
      "cell_type": "code",
      "source": [
        "# Step 7: Predict Your Own Score!\n",
        "hours = float(input(\"Enter hours studied (e.g., 4.5): \"))\n",
        "pred_score = model.predict([[hours]])[0]\n",
        "print(f\"🎯 Predicted Exam Score for {hours} hours: {round(pred_score, 2)}%\")"
      ],
      "metadata": {
        "colab": {
          "base_uri": "https://localhost:8080/"
        },
        "id": "sHNcW_TKj5_T",
        "outputId": "d020e3b3-ff08-4b8f-d91f-d69bab9c3f72"
      },
      "execution_count": 12,
      "outputs": [
        {
          "output_type": "stream",
          "name": "stdout",
          "text": [
            "Enter hours studied (e.g., 4.5): 4\n",
            "🎯 Predicted Exam Score for 4.0 hours: 80.0%\n"
          ]
        }
      ]
    },
    {
      "cell_type": "markdown",
      "metadata": {
        "id": "5e5e6040"
      },
      "source": [
        "# Task\n",
        "Modify the provided Python code to: 1. Replace Linear Regression with a Decision Tree Regressor. 2. Add a 'Sleep_Hours' feature to the dataset and include it in the model. 3. Train the model using only 2 rows of data. 4. Plot the prediction errors (y_test - y_pred). Explain the results of these changes."
      ]
    },
    {
      "cell_type": "code",
      "metadata": {
        "colab": {
          "base_uri": "https://localhost:8080/",
          "height": 380
        },
        "id": "c64d0c8f",
        "outputId": "ef8d7174-91c9-41e8-f90b-85b59a21a3ac"
      },
      "source": [
        "# Show the column addition process\n",
        "# Create the Sleep_Hours data as a pandas Series\n",
        "sleep_hours_series = pd.Series([7, 8, 6, 7, 8, 7, 9, 8, 9, 7], name=\"Sleep_Hours\")\n",
        "\n",
        "# Concatenate the new column to the existing DataFrame\n",
        "df = pd.concat([df, sleep_hours_series], axis=1)\n",
        "\n",
        "print(\"📊 Sample Data with Sleep_Hours column added:\")\n",
        "display(df)"
      ],
      "execution_count": 13,
      "outputs": [
        {
          "output_type": "stream",
          "name": "stdout",
          "text": [
            "📊 Sample Data with Sleep_Hours column added:\n"
          ]
        },
        {
          "output_type": "display_data",
          "data": {
            "text/plain": [
              "   Hours_Studied  Exam_Score  Sleep_Hours\n",
              "0              1          20            7\n",
              "1              2          40            8\n",
              "2              3          60            6\n",
              "3              4          65            7\n",
              "4              5          70            8\n",
              "5              6          80            7\n",
              "6              7          85            9\n",
              "7              8          90            8\n",
              "8              9          95            9\n",
              "9             10         100            7"
            ],
            "text/html": [
              "\n",
              "  <div id=\"df-141c276a-82a3-494d-974f-7c509da42135\" class=\"colab-df-container\">\n",
              "    <div>\n",
              "<style scoped>\n",
              "    .dataframe tbody tr th:only-of-type {\n",
              "        vertical-align: middle;\n",
              "    }\n",
              "\n",
              "    .dataframe tbody tr th {\n",
              "        vertical-align: top;\n",
              "    }\n",
              "\n",
              "    .dataframe thead th {\n",
              "        text-align: right;\n",
              "    }\n",
              "</style>\n",
              "<table border=\"1\" class=\"dataframe\">\n",
              "  <thead>\n",
              "    <tr style=\"text-align: right;\">\n",
              "      <th></th>\n",
              "      <th>Hours_Studied</th>\n",
              "      <th>Exam_Score</th>\n",
              "      <th>Sleep_Hours</th>\n",
              "    </tr>\n",
              "  </thead>\n",
              "  <tbody>\n",
              "    <tr>\n",
              "      <th>0</th>\n",
              "      <td>1</td>\n",
              "      <td>20</td>\n",
              "      <td>7</td>\n",
              "    </tr>\n",
              "    <tr>\n",
              "      <th>1</th>\n",
              "      <td>2</td>\n",
              "      <td>40</td>\n",
              "      <td>8</td>\n",
              "    </tr>\n",
              "    <tr>\n",
              "      <th>2</th>\n",
              "      <td>3</td>\n",
              "      <td>60</td>\n",
              "      <td>6</td>\n",
              "    </tr>\n",
              "    <tr>\n",
              "      <th>3</th>\n",
              "      <td>4</td>\n",
              "      <td>65</td>\n",
              "      <td>7</td>\n",
              "    </tr>\n",
              "    <tr>\n",
              "      <th>4</th>\n",
              "      <td>5</td>\n",
              "      <td>70</td>\n",
              "      <td>8</td>\n",
              "    </tr>\n",
              "    <tr>\n",
              "      <th>5</th>\n",
              "      <td>6</td>\n",
              "      <td>80</td>\n",
              "      <td>7</td>\n",
              "    </tr>\n",
              "    <tr>\n",
              "      <th>6</th>\n",
              "      <td>7</td>\n",
              "      <td>85</td>\n",
              "      <td>9</td>\n",
              "    </tr>\n",
              "    <tr>\n",
              "      <th>7</th>\n",
              "      <td>8</td>\n",
              "      <td>90</td>\n",
              "      <td>8</td>\n",
              "    </tr>\n",
              "    <tr>\n",
              "      <th>8</th>\n",
              "      <td>9</td>\n",
              "      <td>95</td>\n",
              "      <td>9</td>\n",
              "    </tr>\n",
              "    <tr>\n",
              "      <th>9</th>\n",
              "      <td>10</td>\n",
              "      <td>100</td>\n",
              "      <td>7</td>\n",
              "    </tr>\n",
              "  </tbody>\n",
              "</table>\n",
              "</div>\n",
              "    <div class=\"colab-df-buttons\">\n",
              "\n",
              "  <div class=\"colab-df-container\">\n",
              "    <button class=\"colab-df-convert\" onclick=\"convertToInteractive('df-141c276a-82a3-494d-974f-7c509da42135')\"\n",
              "            title=\"Convert this dataframe to an interactive table.\"\n",
              "            style=\"display:none;\">\n",
              "\n",
              "  <svg xmlns=\"http://www.w3.org/2000/svg\" height=\"24px\" viewBox=\"0 -960 960 960\">\n",
              "    <path d=\"M120-120v-720h720v720H120Zm60-500h600v-160H180v160Zm220 220h160v-160H400v160Zm0 220h160v-160H400v160ZM180-400h160v-160H180v160Zm440 0h160v-160H620v160ZM180-180h160v-160H180v160Zm440 0h160v-160H620v160Z\"/>\n",
              "  </svg>\n",
              "    </button>\n",
              "\n",
              "  <style>\n",
              "    .colab-df-container {\n",
              "      display:flex;\n",
              "      gap: 12px;\n",
              "    }\n",
              "\n",
              "    .colab-df-convert {\n",
              "      background-color: #E8F0FE;\n",
              "      border: none;\n",
              "      border-radius: 50%;\n",
              "      cursor: pointer;\n",
              "      display: none;\n",
              "      fill: #1967D2;\n",
              "      height: 32px;\n",
              "      padding: 0 0 0 0;\n",
              "      width: 32px;\n",
              "    }\n",
              "\n",
              "    .colab-df-convert:hover {\n",
              "      background-color: #E2EBFA;\n",
              "      box-shadow: 0px 1px 2px rgba(60, 64, 67, 0.3), 0px 1px 3px 1px rgba(60, 64, 67, 0.15);\n",
              "      fill: #174EA6;\n",
              "    }\n",
              "\n",
              "    .colab-df-buttons div {\n",
              "      margin-bottom: 4px;\n",
              "    }\n",
              "\n",
              "    [theme=dark] .colab-df-convert {\n",
              "      background-color: #3B4455;\n",
              "      fill: #D2E3FC;\n",
              "    }\n",
              "\n",
              "    [theme=dark] .colab-df-convert:hover {\n",
              "      background-color: #434B5C;\n",
              "      box-shadow: 0px 1px 3px 1px rgba(0, 0, 0, 0.15);\n",
              "      filter: drop-shadow(0px 1px 2px rgba(0, 0, 0, 0.3));\n",
              "      fill: #FFFFFF;\n",
              "    }\n",
              "  </style>\n",
              "\n",
              "    <script>\n",
              "      const buttonEl =\n",
              "        document.querySelector('#df-141c276a-82a3-494d-974f-7c509da42135 button.colab-df-convert');\n",
              "      buttonEl.style.display =\n",
              "        google.colab.kernel.accessAllowed ? 'block' : 'none';\n",
              "\n",
              "      async function convertToInteractive(key) {\n",
              "        const element = document.querySelector('#df-141c276a-82a3-494d-974f-7c509da42135');\n",
              "        const dataTable =\n",
              "          await google.colab.kernel.invokeFunction('convertToInteractive',\n",
              "                                                    [key], {});\n",
              "        if (!dataTable) return;\n",
              "\n",
              "        const docLinkHtml = 'Like what you see? Visit the ' +\n",
              "          '<a target=\"_blank\" href=https://colab.research.google.com/notebooks/data_table.ipynb>data table notebook</a>'\n",
              "          + ' to learn more about interactive tables.';\n",
              "        element.innerHTML = '';\n",
              "        dataTable['output_type'] = 'display_data';\n",
              "        await google.colab.output.renderOutput(dataTable, element);\n",
              "        const docLink = document.createElement('div');\n",
              "        docLink.innerHTML = docLinkHtml;\n",
              "        element.appendChild(docLink);\n",
              "      }\n",
              "    </script>\n",
              "  </div>\n",
              "\n",
              "\n",
              "    <div id=\"df-78ebcc15-e1f9-4bf5-b95e-61e33520071a\">\n",
              "      <button class=\"colab-df-quickchart\" onclick=\"quickchart('df-78ebcc15-e1f9-4bf5-b95e-61e33520071a')\"\n",
              "                title=\"Suggest charts\"\n",
              "                style=\"display:none;\">\n",
              "\n",
              "<svg xmlns=\"http://www.w3.org/2000/svg\" height=\"24px\"viewBox=\"0 0 24 24\"\n",
              "     width=\"24px\">\n",
              "    <g>\n",
              "        <path d=\"M19 3H5c-1.1 0-2 .9-2 2v14c0 1.1.9 2 2 2h14c1.1 0 2-.9 2-2V5c0-1.1-.9-2-2-2zM9 17H7v-7h2v7zm4 0h-2V7h2v10zm4 0h-2v-4h2v4z\"/>\n",
              "    </g>\n",
              "</svg>\n",
              "      </button>\n",
              "\n",
              "<style>\n",
              "  .colab-df-quickchart {\n",
              "      --bg-color: #E8F0FE;\n",
              "      --fill-color: #1967D2;\n",
              "      --hover-bg-color: #E2EBFA;\n",
              "      --hover-fill-color: #174EA6;\n",
              "      --disabled-fill-color: #AAA;\n",
              "      --disabled-bg-color: #DDD;\n",
              "  }\n",
              "\n",
              "  [theme=dark] .colab-df-quickchart {\n",
              "      --bg-color: #3B4455;\n",
              "      --fill-color: #D2E3FC;\n",
              "      --hover-bg-color: #434B5C;\n",
              "      --hover-fill-color: #FFFFFF;\n",
              "      --disabled-bg-color: #3B4455;\n",
              "      --disabled-fill-color: #666;\n",
              "  }\n",
              "\n",
              "  .colab-df-quickchart {\n",
              "    background-color: var(--bg-color);\n",
              "    border: none;\n",
              "    border-radius: 50%;\n",
              "    cursor: pointer;\n",
              "    display: none;\n",
              "    fill: var(--fill-color);\n",
              "    height: 32px;\n",
              "    padding: 0;\n",
              "    width: 32px;\n",
              "  }\n",
              "\n",
              "  .colab-df-quickchart:hover {\n",
              "    background-color: var(--hover-bg-color);\n",
              "    box-shadow: 0 1px 2px rgba(60, 64, 67, 0.3), 0 1px 3px 1px rgba(60, 64, 67, 0.15);\n",
              "    fill: var(--button-hover-fill-color);\n",
              "  }\n",
              "\n",
              "  .colab-df-quickchart-complete:disabled,\n",
              "  .colab-df-quickchart-complete:disabled:hover {\n",
              "    background-color: var(--disabled-bg-color);\n",
              "    fill: var(--disabled-fill-color);\n",
              "    box-shadow: none;\n",
              "  }\n",
              "\n",
              "  .colab-df-spinner {\n",
              "    border: 2px solid var(--fill-color);\n",
              "    border-color: transparent;\n",
              "    border-bottom-color: var(--fill-color);\n",
              "    animation:\n",
              "      spin 1s steps(1) infinite;\n",
              "  }\n",
              "\n",
              "  @keyframes spin {\n",
              "    0% {\n",
              "      border-color: transparent;\n",
              "      border-bottom-color: var(--fill-color);\n",
              "      border-left-color: var(--fill-color);\n",
              "    }\n",
              "    20% {\n",
              "      border-color: transparent;\n",
              "      border-left-color: var(--fill-color);\n",
              "      border-top-color: var(--fill-color);\n",
              "    }\n",
              "    30% {\n",
              "      border-color: transparent;\n",
              "      border-left-color: var(--fill-color);\n",
              "      border-top-color: var(--fill-color);\n",
              "      border-right-color: var(--fill-color);\n",
              "    }\n",
              "    40% {\n",
              "      border-color: transparent;\n",
              "      border-right-color: var(--fill-color);\n",
              "      border-top-color: var(--fill-color);\n",
              "    }\n",
              "    60% {\n",
              "      border-color: transparent;\n",
              "      border-right-color: var(--fill-color);\n",
              "    }\n",
              "    80% {\n",
              "      border-color: transparent;\n",
              "      border-right-color: var(--fill-color);\n",
              "      border-bottom-color: var(--fill-color);\n",
              "    }\n",
              "    90% {\n",
              "      border-color: transparent;\n",
              "      border-bottom-color: var(--fill-color);\n",
              "    }\n",
              "  }\n",
              "</style>\n",
              "\n",
              "      <script>\n",
              "        async function quickchart(key) {\n",
              "          const quickchartButtonEl =\n",
              "            document.querySelector('#' + key + ' button');\n",
              "          quickchartButtonEl.disabled = true;  // To prevent multiple clicks.\n",
              "          quickchartButtonEl.classList.add('colab-df-spinner');\n",
              "          try {\n",
              "            const charts = await google.colab.kernel.invokeFunction(\n",
              "                'suggestCharts', [key], {});\n",
              "          } catch (error) {\n",
              "            console.error('Error during call to suggestCharts:', error);\n",
              "          }\n",
              "          quickchartButtonEl.classList.remove('colab-df-spinner');\n",
              "          quickchartButtonEl.classList.add('colab-df-quickchart-complete');\n",
              "        }\n",
              "        (() => {\n",
              "          let quickchartButtonEl =\n",
              "            document.querySelector('#df-78ebcc15-e1f9-4bf5-b95e-61e33520071a button');\n",
              "          quickchartButtonEl.style.display =\n",
              "            google.colab.kernel.accessAllowed ? 'block' : 'none';\n",
              "        })();\n",
              "      </script>\n",
              "    </div>\n",
              "\n",
              "  <div id=\"id_2aba4b61-4cae-4980-831c-de4d688ad8a7\">\n",
              "    <style>\n",
              "      .colab-df-generate {\n",
              "        background-color: #E8F0FE;\n",
              "        border: none;\n",
              "        border-radius: 50%;\n",
              "        cursor: pointer;\n",
              "        display: none;\n",
              "        fill: #1967D2;\n",
              "        height: 32px;\n",
              "        padding: 0 0 0 0;\n",
              "        width: 32px;\n",
              "      }\n",
              "\n",
              "      .colab-df-generate:hover {\n",
              "        background-color: #E2EBFA;\n",
              "        box-shadow: 0px 1px 2px rgba(60, 64, 67, 0.3), 0px 1px 3px 1px rgba(60, 64, 67, 0.15);\n",
              "        fill: #174EA6;\n",
              "      }\n",
              "\n",
              "      [theme=dark] .colab-df-generate {\n",
              "        background-color: #3B4455;\n",
              "        fill: #D2E3FC;\n",
              "      }\n",
              "\n",
              "      [theme=dark] .colab-df-generate:hover {\n",
              "        background-color: #434B5C;\n",
              "        box-shadow: 0px 1px 3px 1px rgba(0, 0, 0, 0.15);\n",
              "        filter: drop-shadow(0px 1px 2px rgba(0, 0, 0, 0.3));\n",
              "        fill: #FFFFFF;\n",
              "      }\n",
              "    </style>\n",
              "    <button class=\"colab-df-generate\" onclick=\"generateWithVariable('df')\"\n",
              "            title=\"Generate code using this dataframe.\"\n",
              "            style=\"display:none;\">\n",
              "\n",
              "  <svg xmlns=\"http://www.w3.org/2000/svg\" height=\"24px\"viewBox=\"0 0 24 24\"\n",
              "       width=\"24px\">\n",
              "    <path d=\"M7,19H8.4L18.45,9,17,7.55,7,17.6ZM5,21V16.75L18.45,3.32a2,2,0,0,1,2.83,0l1.4,1.43a1.91,1.91,0,0,1,.58,1.4,1.91,1.91,0,0,1-.58,1.4L9.25,21ZM18.45,9,17,7.55Zm-12,3A5.31,5.31,0,0,0,4.9,8.1,5.31,5.31,0,0,0,1,6.5,5.31,5.31,0,0,0,4.9,4.9,5.31,5.31,0,0,0,6.5,1,5.31,5.31,0,0,0,8.1,4.9,5.31,5.31,0,0,0,12,6.5,5.46,5.46,0,0,0,6.5,12Z\"/>\n",
              "  </svg>\n",
              "    </button>\n",
              "    <script>\n",
              "      (() => {\n",
              "      const buttonEl =\n",
              "        document.querySelector('#id_2aba4b61-4cae-4980-831c-de4d688ad8a7 button.colab-df-generate');\n",
              "      buttonEl.style.display =\n",
              "        google.colab.kernel.accessAllowed ? 'block' : 'none';\n",
              "\n",
              "      buttonEl.onclick = () => {\n",
              "        google.colab.notebook.generateWithVariable('df');\n",
              "      }\n",
              "      })();\n",
              "    </script>\n",
              "  </div>\n",
              "\n",
              "    </div>\n",
              "  </div>\n"
            ],
            "application/vnd.google.colaboratory.intrinsic+json": {
              "type": "dataframe",
              "variable_name": "df",
              "summary": "{\n  \"name\": \"df\",\n  \"rows\": 10,\n  \"fields\": [\n    {\n      \"column\": \"Hours_Studied\",\n      \"properties\": {\n        \"dtype\": \"number\",\n        \"std\": 3,\n        \"min\": 1,\n        \"max\": 10,\n        \"num_unique_values\": 10,\n        \"samples\": [\n          9,\n          2,\n          6\n        ],\n        \"semantic_type\": \"\",\n        \"description\": \"\"\n      }\n    },\n    {\n      \"column\": \"Exam_Score\",\n      \"properties\": {\n        \"dtype\": \"number\",\n        \"std\": 25,\n        \"min\": 20,\n        \"max\": 100,\n        \"num_unique_values\": 10,\n        \"samples\": [\n          95,\n          40,\n          80\n        ],\n        \"semantic_type\": \"\",\n        \"description\": \"\"\n      }\n    },\n    {\n      \"column\": \"Sleep_Hours\",\n      \"properties\": {\n        \"dtype\": \"number\",\n        \"std\": 0,\n        \"min\": 6,\n        \"max\": 9,\n        \"num_unique_values\": 4,\n        \"samples\": [\n          8,\n          9,\n          7\n        ],\n        \"semantic_type\": \"\",\n        \"description\": \"\"\n      }\n    }\n  ]\n}"
            }
          },
          "metadata": {}
        }
      ]
    },
    {
      "cell_type": "code",
      "metadata": {
        "colab": {
          "base_uri": "https://localhost:8080/"
        },
        "id": "eed30d73",
        "outputId": "0c55a04c-cccb-4655-9c42-ee55d688186e"
      },
      "source": [
        "# Step 3: Prepare Data for ML\n",
        "X = df[[\"Hours_Studied\", \"Sleep_Hours\"]]  # Input features including Sleep_Hours\n",
        "y = df[\"Exam_Score\"]       # Target\n",
        "\n",
        "# Split into training and testing sets\n",
        "X_train, X_test, y_train, y_test = train_test_split(X, y, test_size=0.2, random_state=42)\n",
        "\n",
        "print(\"✂️ Training Data:\", X_train.shape)\n",
        "print(\"✂️ Testing Data:\", X_test.shape)"
      ],
      "execution_count": 14,
      "outputs": [
        {
          "output_type": "stream",
          "name": "stdout",
          "text": [
            "✂️ Training Data: (8, 2)\n",
            "✂️ Testing Data: (2, 2)\n"
          ]
        }
      ]
    },
    {
      "cell_type": "code",
      "source": [
        "model = LinearRegression()\n",
        "model.fit(X_train, y_train) # Train with updated X_train including Sleep_Hours\n",
        "\n",
        "print(\"🤖 Model trained!\")\n",
        "print(\"Model Slope (Coefficient):\", model.coef_) # Display coefficients for all features\n",
        "print(\"Model Intercept:\", model.intercept_)"
      ],
      "metadata": {
        "colab": {
          "base_uri": "https://localhost:8080/"
        },
        "id": "8QWhMA_m3fCf",
        "outputId": "92735ccc-b871-4a76-b7fb-a7061404752a"
      },
      "execution_count": 15,
      "outputs": [
        {
          "output_type": "stream",
          "name": "stdout",
          "text": [
            "🤖 Model trained!\n",
            "Model Slope (Coefficient): [ 8.22275923 -0.92267135]\n",
            "Model Intercept: 32.82952548330403\n"
          ]
        }
      ]
    },
    {
      "cell_type": "code",
      "metadata": {
        "colab": {
          "base_uri": "https://localhost:8080/"
        },
        "id": "d2eb4172",
        "outputId": "60d11b82-820d-4f2e-fd20-563d336a67a9"
      },
      "source": [
        "# Step 6: Evaluate the Model with Sleep_Hours feature\n",
        "score_with_sleep = model.score(X_test, y_test)\n",
        "print(\"📝 Model Accuracy (R² Score) with Sleep_Hours:\", round(score_with_sleep * 100, 2), \"%\")"
      ],
      "execution_count": 16,
      "outputs": [
        {
          "output_type": "stream",
          "name": "stdout",
          "text": [
            "📝 Model Accuracy (R² Score) with Sleep_Hours: 98.94 %\n"
          ]
        }
      ]
    },
    {
      "cell_type": "code",
      "metadata": {
        "colab": {
          "base_uri": "https://localhost:8080/"
        },
        "id": "e9cc0141",
        "outputId": "97e5e22d-04d1-468c-83e6-8a1311a90d01"
      },
      "source": [
        "# Train a Decision Tree Regressor\n",
        "dt_model = DecisionTreeRegressor(random_state=42)\n",
        "dt_model.fit(X_train, y_train)\n",
        "\n",
        "print(\"🤖 Decision Tree Model trained!\")"
      ],
      "execution_count": 17,
      "outputs": [
        {
          "output_type": "stream",
          "name": "stdout",
          "text": [
            "🤖 Decision Tree Model trained!\n"
          ]
        }
      ]
    },
    {
      "cell_type": "code",
      "metadata": {
        "colab": {
          "base_uri": "https://localhost:8080/"
        },
        "id": "e200ccac",
        "outputId": "a61c5292-858e-4173-da83-655416a3e862"
      },
      "source": [
        "# Make predictions with the Decision Tree model\n",
        "y_pred_dt = dt_model.predict(X_test)\n",
        "print(\"🧠 Decision Tree Model Predictions vs Actual:\")\n",
        "print(pd.DataFrame({\"Actual\": y_test, \"Predicted\": y_pred_dt}))"
      ],
      "execution_count": 18,
      "outputs": [
        {
          "output_type": "stream",
          "name": "stdout",
          "text": [
            "🧠 Decision Tree Model Predictions vs Actual:\n",
            "   Actual  Predicted\n",
            "8      95       90.0\n",
            "1      40       20.0\n"
          ]
        }
      ]
    },
    {
      "cell_type": "code",
      "metadata": {
        "colab": {
          "base_uri": "https://localhost:8080/"
        },
        "id": "5f05f184",
        "outputId": "fbe5c5da-4890-4184-9e77-4baa694d8a15"
      },
      "source": [
        "# Evaluate the Decision Tree model\n",
        "score_dt = dt_model.score(X_test, y_test)\n",
        "print(\"📝 Decision Tree Model Accuracy (R² Score):\", round(score_dt * 100, 2), \"%\")"
      ],
      "execution_count": 19,
      "outputs": [
        {
          "output_type": "stream",
          "name": "stdout",
          "text": [
            "📝 Decision Tree Model Accuracy (R² Score): 71.9 %\n"
          ]
        }
      ]
    },
    {
      "cell_type": "code",
      "metadata": {
        "colab": {
          "base_uri": "https://localhost:8080/"
        },
        "id": "6d7a9e43",
        "outputId": "21384391-aaeb-49f7-d649-6ca46dc79f40"
      },
      "source": [
        "# Step 4: Train the Linear Regression Model with the first 2 rows\n",
        "model = LinearRegression()\n",
        "model.fit(X_train, y_train)\n",
        "\n",
        "print(\"🤖 Linear Regression Model trained with first 2 rows!\")\n",
        "print(\"Model Slope (Coefficient):\", model.coef_)\n",
        "print(\"Model Intercept:\", model.intercept_)"
      ],
      "execution_count": 20,
      "outputs": [
        {
          "output_type": "stream",
          "name": "stdout",
          "text": [
            "🤖 Linear Regression Model trained with first 2 rows!\n",
            "Model Slope (Coefficient): [ 8.22275923 -0.92267135]\n",
            "Model Intercept: 32.82952548330403\n"
          ]
        }
      ]
    },
    {
      "cell_type": "code",
      "metadata": {
        "colab": {
          "base_uri": "https://localhost:8080/"
        },
        "id": "d074b869",
        "outputId": "7b8c785c-e7d0-4187-bd0c-176ed18205ca"
      },
      "source": [
        "# Step 6: Evaluate the Linear Regression Model with the first 2 rows for training\n",
        "score_lr_2_rows = model.score(X_test, y_test)\n",
        "print(\"📝 Linear Regression Model Accuracy (R² Score) with 2 training rows:\", round(score_lr_2_rows * 100, 2), \"%\")"
      ],
      "execution_count": 21,
      "outputs": [
        {
          "output_type": "stream",
          "name": "stdout",
          "text": [
            "📝 Linear Regression Model Accuracy (R² Score) with 2 training rows: 98.94 %\n"
          ]
        }
      ]
    },
    {
      "cell_type": "code",
      "metadata": {
        "colab": {
          "base_uri": "https://localhost:8080/"
        },
        "id": "e02882bc",
        "outputId": "1dd59ed3-02bc-4c36-bf85-8d1005df8afc"
      },
      "source": [
        "# Train a Decision Tree Regressor with the first 2 rows\n",
        "dt_model = DecisionTreeRegressor(random_state=42)\n",
        "dt_model.fit(X_train, y_train)\n",
        "\n",
        "print(\"🤖 Decision Tree Model trained with first 2 rows!\")"
      ],
      "execution_count": 22,
      "outputs": [
        {
          "output_type": "stream",
          "name": "stdout",
          "text": [
            "🤖 Decision Tree Model trained with first 2 rows!\n"
          ]
        }
      ]
    },
    {
      "cell_type": "code",
      "metadata": {
        "colab": {
          "base_uri": "https://localhost:8080/"
        },
        "id": "6792d45f",
        "outputId": "eee36d9c-e99d-47b9-c2e9-6d31204b2f88"
      },
      "source": [
        "# Evaluate the Decision Tree model with the first 2 rows for training\n",
        "score_dt_2_rows = dt_model.score(X_test, y_test)\n",
        "print(\"📝 Decision Tree Model Accuracy (R² Score) with 2 training rows:\", round(score_dt_2_rows * 100, 2), \"%\")"
      ],
      "execution_count": 23,
      "outputs": [
        {
          "output_type": "stream",
          "name": "stdout",
          "text": [
            "📝 Decision Tree Model Accuracy (R² Score) with 2 training rows: 71.9 %\n"
          ]
        }
      ]
    },
    {
      "cell_type": "code",
      "metadata": {
        "colab": {
          "base_uri": "https://localhost:8080/",
          "height": 258
        },
        "id": "48254a4d",
        "outputId": "60ecd907-3461-4896-bd14-c134b3845b6a"
      },
      "source": [
        "# Step 1: Load a larger dataset\n",
        "# Using a well-known dataset for regression: the California Housing dataset\n",
        "from sklearn.datasets import fetch_california_housing\n",
        "import pandas as pd\n",
        "\n",
        "california_housing = fetch_california_housing()\n",
        "X_full, y_full = california_housing.data, california_housing.target\n",
        "\n",
        "# Create a DataFrame for easier handling, taking a larger subset of the data\n",
        "# Let's take the first 100 samples for this run\n",
        "df_large = pd.DataFrame(X_full, columns=california_housing.feature_names).head(100)\n",
        "df_large['MedHouseVal'] = pd.Series(y_full).head(100)\n",
        "\n",
        "print(\"✅ Larger dataset loaded (first 100 samples):\")\n",
        "display(df_large.head())\n",
        "print(\"\\nDataset shape:\", df_large.shape)"
      ],
      "execution_count": 24,
      "outputs": [
        {
          "output_type": "stream",
          "name": "stdout",
          "text": [
            "✅ Larger dataset loaded (first 100 samples):\n"
          ]
        },
        {
          "output_type": "display_data",
          "data": {
            "text/plain": [
              "   MedInc  HouseAge  AveRooms  AveBedrms  Population  AveOccup  Latitude  \\\n",
              "0  8.3252      41.0  6.984127   1.023810       322.0  2.555556     37.88   \n",
              "1  8.3014      21.0  6.238137   0.971880      2401.0  2.109842     37.86   \n",
              "2  7.2574      52.0  8.288136   1.073446       496.0  2.802260     37.85   \n",
              "3  5.6431      52.0  5.817352   1.073059       558.0  2.547945     37.85   \n",
              "4  3.8462      52.0  6.281853   1.081081       565.0  2.181467     37.85   \n",
              "\n",
              "   Longitude  MedHouseVal  \n",
              "0    -122.23        4.526  \n",
              "1    -122.22        3.585  \n",
              "2    -122.24        3.521  \n",
              "3    -122.25        3.413  \n",
              "4    -122.25        3.422  "
            ],
            "text/html": [
              "\n",
              "  <div id=\"df-195804c4-2dba-4d28-9495-71278945980e\" class=\"colab-df-container\">\n",
              "    <div>\n",
              "<style scoped>\n",
              "    .dataframe tbody tr th:only-of-type {\n",
              "        vertical-align: middle;\n",
              "    }\n",
              "\n",
              "    .dataframe tbody tr th {\n",
              "        vertical-align: top;\n",
              "    }\n",
              "\n",
              "    .dataframe thead th {\n",
              "        text-align: right;\n",
              "    }\n",
              "</style>\n",
              "<table border=\"1\" class=\"dataframe\">\n",
              "  <thead>\n",
              "    <tr style=\"text-align: right;\">\n",
              "      <th></th>\n",
              "      <th>MedInc</th>\n",
              "      <th>HouseAge</th>\n",
              "      <th>AveRooms</th>\n",
              "      <th>AveBedrms</th>\n",
              "      <th>Population</th>\n",
              "      <th>AveOccup</th>\n",
              "      <th>Latitude</th>\n",
              "      <th>Longitude</th>\n",
              "      <th>MedHouseVal</th>\n",
              "    </tr>\n",
              "  </thead>\n",
              "  <tbody>\n",
              "    <tr>\n",
              "      <th>0</th>\n",
              "      <td>8.3252</td>\n",
              "      <td>41.0</td>\n",
              "      <td>6.984127</td>\n",
              "      <td>1.023810</td>\n",
              "      <td>322.0</td>\n",
              "      <td>2.555556</td>\n",
              "      <td>37.88</td>\n",
              "      <td>-122.23</td>\n",
              "      <td>4.526</td>\n",
              "    </tr>\n",
              "    <tr>\n",
              "      <th>1</th>\n",
              "      <td>8.3014</td>\n",
              "      <td>21.0</td>\n",
              "      <td>6.238137</td>\n",
              "      <td>0.971880</td>\n",
              "      <td>2401.0</td>\n",
              "      <td>2.109842</td>\n",
              "      <td>37.86</td>\n",
              "      <td>-122.22</td>\n",
              "      <td>3.585</td>\n",
              "    </tr>\n",
              "    <tr>\n",
              "      <th>2</th>\n",
              "      <td>7.2574</td>\n",
              "      <td>52.0</td>\n",
              "      <td>8.288136</td>\n",
              "      <td>1.073446</td>\n",
              "      <td>496.0</td>\n",
              "      <td>2.802260</td>\n",
              "      <td>37.85</td>\n",
              "      <td>-122.24</td>\n",
              "      <td>3.521</td>\n",
              "    </tr>\n",
              "    <tr>\n",
              "      <th>3</th>\n",
              "      <td>5.6431</td>\n",
              "      <td>52.0</td>\n",
              "      <td>5.817352</td>\n",
              "      <td>1.073059</td>\n",
              "      <td>558.0</td>\n",
              "      <td>2.547945</td>\n",
              "      <td>37.85</td>\n",
              "      <td>-122.25</td>\n",
              "      <td>3.413</td>\n",
              "    </tr>\n",
              "    <tr>\n",
              "      <th>4</th>\n",
              "      <td>3.8462</td>\n",
              "      <td>52.0</td>\n",
              "      <td>6.281853</td>\n",
              "      <td>1.081081</td>\n",
              "      <td>565.0</td>\n",
              "      <td>2.181467</td>\n",
              "      <td>37.85</td>\n",
              "      <td>-122.25</td>\n",
              "      <td>3.422</td>\n",
              "    </tr>\n",
              "  </tbody>\n",
              "</table>\n",
              "</div>\n",
              "    <div class=\"colab-df-buttons\">\n",
              "\n",
              "  <div class=\"colab-df-container\">\n",
              "    <button class=\"colab-df-convert\" onclick=\"convertToInteractive('df-195804c4-2dba-4d28-9495-71278945980e')\"\n",
              "            title=\"Convert this dataframe to an interactive table.\"\n",
              "            style=\"display:none;\">\n",
              "\n",
              "  <svg xmlns=\"http://www.w3.org/2000/svg\" height=\"24px\" viewBox=\"0 -960 960 960\">\n",
              "    <path d=\"M120-120v-720h720v720H120Zm60-500h600v-160H180v160Zm220 220h160v-160H400v160Zm0 220h160v-160H400v160ZM180-400h160v-160H180v160Zm440 0h160v-160H620v160ZM180-180h160v-160H180v160Zm440 0h160v-160H620v160Z\"/>\n",
              "  </svg>\n",
              "    </button>\n",
              "\n",
              "  <style>\n",
              "    .colab-df-container {\n",
              "      display:flex;\n",
              "      gap: 12px;\n",
              "    }\n",
              "\n",
              "    .colab-df-convert {\n",
              "      background-color: #E8F0FE;\n",
              "      border: none;\n",
              "      border-radius: 50%;\n",
              "      cursor: pointer;\n",
              "      display: none;\n",
              "      fill: #1967D2;\n",
              "      height: 32px;\n",
              "      padding: 0 0 0 0;\n",
              "      width: 32px;\n",
              "    }\n",
              "\n",
              "    .colab-df-convert:hover {\n",
              "      background-color: #E2EBFA;\n",
              "      box-shadow: 0px 1px 2px rgba(60, 64, 67, 0.3), 0px 1px 3px 1px rgba(60, 64, 67, 0.15);\n",
              "      fill: #174EA6;\n",
              "    }\n",
              "\n",
              "    .colab-df-buttons div {\n",
              "      margin-bottom: 4px;\n",
              "    }\n",
              "\n",
              "    [theme=dark] .colab-df-convert {\n",
              "      background-color: #3B4455;\n",
              "      fill: #D2E3FC;\n",
              "    }\n",
              "\n",
              "    [theme=dark] .colab-df-convert:hover {\n",
              "      background-color: #434B5C;\n",
              "      box-shadow: 0px 1px 3px 1px rgba(0, 0, 0, 0.15);\n",
              "      filter: drop-shadow(0px 1px 2px rgba(0, 0, 0, 0.3));\n",
              "      fill: #FFFFFF;\n",
              "    }\n",
              "  </style>\n",
              "\n",
              "    <script>\n",
              "      const buttonEl =\n",
              "        document.querySelector('#df-195804c4-2dba-4d28-9495-71278945980e button.colab-df-convert');\n",
              "      buttonEl.style.display =\n",
              "        google.colab.kernel.accessAllowed ? 'block' : 'none';\n",
              "\n",
              "      async function convertToInteractive(key) {\n",
              "        const element = document.querySelector('#df-195804c4-2dba-4d28-9495-71278945980e');\n",
              "        const dataTable =\n",
              "          await google.colab.kernel.invokeFunction('convertToInteractive',\n",
              "                                                    [key], {});\n",
              "        if (!dataTable) return;\n",
              "\n",
              "        const docLinkHtml = 'Like what you see? Visit the ' +\n",
              "          '<a target=\"_blank\" href=https://colab.research.google.com/notebooks/data_table.ipynb>data table notebook</a>'\n",
              "          + ' to learn more about interactive tables.';\n",
              "        element.innerHTML = '';\n",
              "        dataTable['output_type'] = 'display_data';\n",
              "        await google.colab.output.renderOutput(dataTable, element);\n",
              "        const docLink = document.createElement('div');\n",
              "        docLink.innerHTML = docLinkHtml;\n",
              "        element.appendChild(docLink);\n",
              "      }\n",
              "    </script>\n",
              "  </div>\n",
              "\n",
              "\n",
              "    <div id=\"df-a59cca63-988c-4119-82b4-f183f1fec9ba\">\n",
              "      <button class=\"colab-df-quickchart\" onclick=\"quickchart('df-a59cca63-988c-4119-82b4-f183f1fec9ba')\"\n",
              "                title=\"Suggest charts\"\n",
              "                style=\"display:none;\">\n",
              "\n",
              "<svg xmlns=\"http://www.w3.org/2000/svg\" height=\"24px\"viewBox=\"0 0 24 24\"\n",
              "     width=\"24px\">\n",
              "    <g>\n",
              "        <path d=\"M19 3H5c-1.1 0-2 .9-2 2v14c0 1.1.9 2 2 2h14c1.1 0 2-.9 2-2V5c0-1.1-.9-2-2-2zM9 17H7v-7h2v7zm4 0h-2V7h2v10zm4 0h-2v-4h2v4z\"/>\n",
              "    </g>\n",
              "</svg>\n",
              "      </button>\n",
              "\n",
              "<style>\n",
              "  .colab-df-quickchart {\n",
              "      --bg-color: #E8F0FE;\n",
              "      --fill-color: #1967D2;\n",
              "      --hover-bg-color: #E2EBFA;\n",
              "      --hover-fill-color: #174EA6;\n",
              "      --disabled-fill-color: #AAA;\n",
              "      --disabled-bg-color: #DDD;\n",
              "  }\n",
              "\n",
              "  [theme=dark] .colab-df-quickchart {\n",
              "      --bg-color: #3B4455;\n",
              "      --fill-color: #D2E3FC;\n",
              "      --hover-bg-color: #434B5C;\n",
              "      --hover-fill-color: #FFFFFF;\n",
              "      --disabled-bg-color: #3B4455;\n",
              "      --disabled-fill-color: #666;\n",
              "  }\n",
              "\n",
              "  .colab-df-quickchart {\n",
              "    background-color: var(--bg-color);\n",
              "    border: none;\n",
              "    border-radius: 50%;\n",
              "    cursor: pointer;\n",
              "    display: none;\n",
              "    fill: var(--fill-color);\n",
              "    height: 32px;\n",
              "    padding: 0;\n",
              "    width: 32px;\n",
              "  }\n",
              "\n",
              "  .colab-df-quickchart:hover {\n",
              "    background-color: var(--hover-bg-color);\n",
              "    box-shadow: 0 1px 2px rgba(60, 64, 67, 0.3), 0 1px 3px 1px rgba(60, 64, 67, 0.15);\n",
              "    fill: var(--button-hover-fill-color);\n",
              "  }\n",
              "\n",
              "  .colab-df-quickchart-complete:disabled,\n",
              "  .colab-df-quickchart-complete:disabled:hover {\n",
              "    background-color: var(--disabled-bg-color);\n",
              "    fill: var(--disabled-fill-color);\n",
              "    box-shadow: none;\n",
              "  }\n",
              "\n",
              "  .colab-df-spinner {\n",
              "    border: 2px solid var(--fill-color);\n",
              "    border-color: transparent;\n",
              "    border-bottom-color: var(--fill-color);\n",
              "    animation:\n",
              "      spin 1s steps(1) infinite;\n",
              "  }\n",
              "\n",
              "  @keyframes spin {\n",
              "    0% {\n",
              "      border-color: transparent;\n",
              "      border-bottom-color: var(--fill-color);\n",
              "      border-left-color: var(--fill-color);\n",
              "    }\n",
              "    20% {\n",
              "      border-color: transparent;\n",
              "      border-left-color: var(--fill-color);\n",
              "      border-top-color: var(--fill-color);\n",
              "    }\n",
              "    30% {\n",
              "      border-color: transparent;\n",
              "      border-left-color: var(--fill-color);\n",
              "      border-top-color: var(--fill-color);\n",
              "      border-right-color: var(--fill-color);\n",
              "    }\n",
              "    40% {\n",
              "      border-color: transparent;\n",
              "      border-right-color: var(--fill-color);\n",
              "      border-top-color: var(--fill-color);\n",
              "    }\n",
              "    60% {\n",
              "      border-color: transparent;\n",
              "      border-right-color: var(--fill-color);\n",
              "    }\n",
              "    80% {\n",
              "      border-color: transparent;\n",
              "      border-right-color: var(--fill-color);\n",
              "      border-bottom-color: var(--fill-color);\n",
              "    }\n",
              "    90% {\n",
              "      border-color: transparent;\n",
              "      border-bottom-color: var(--fill-color);\n",
              "    }\n",
              "  }\n",
              "</style>\n",
              "\n",
              "      <script>\n",
              "        async function quickchart(key) {\n",
              "          const quickchartButtonEl =\n",
              "            document.querySelector('#' + key + ' button');\n",
              "          quickchartButtonEl.disabled = true;  // To prevent multiple clicks.\n",
              "          quickchartButtonEl.classList.add('colab-df-spinner');\n",
              "          try {\n",
              "            const charts = await google.colab.kernel.invokeFunction(\n",
              "                'suggestCharts', [key], {});\n",
              "          } catch (error) {\n",
              "            console.error('Error during call to suggestCharts:', error);\n",
              "          }\n",
              "          quickchartButtonEl.classList.remove('colab-df-spinner');\n",
              "          quickchartButtonEl.classList.add('colab-df-quickchart-complete');\n",
              "        }\n",
              "        (() => {\n",
              "          let quickchartButtonEl =\n",
              "            document.querySelector('#df-a59cca63-988c-4119-82b4-f183f1fec9ba button');\n",
              "          quickchartButtonEl.style.display =\n",
              "            google.colab.kernel.accessAllowed ? 'block' : 'none';\n",
              "        })();\n",
              "      </script>\n",
              "    </div>\n",
              "\n",
              "    </div>\n",
              "  </div>\n"
            ],
            "application/vnd.google.colaboratory.intrinsic+json": {
              "type": "dataframe",
              "summary": "{\n  \"name\": \"print(\\\"\\\\nDataset shape:\\\", df_large\",\n  \"rows\": 5,\n  \"fields\": [\n    {\n      \"column\": \"MedInc\",\n      \"properties\": {\n        \"dtype\": \"number\",\n        \"std\": 1.9218775476080674,\n        \"min\": 3.8462,\n        \"max\": 8.3252,\n        \"num_unique_values\": 5,\n        \"samples\": [\n          8.3014,\n          3.8462,\n          7.2574\n        ],\n        \"semantic_type\": \"\",\n        \"description\": \"\"\n      }\n    },\n    {\n      \"column\": \"HouseAge\",\n      \"properties\": {\n        \"dtype\": \"number\",\n        \"std\": 13.501851724856113,\n        \"min\": 21.0,\n        \"max\": 52.0,\n        \"num_unique_values\": 3,\n        \"samples\": [\n          41.0,\n          21.0,\n          52.0\n        ],\n        \"semantic_type\": \"\",\n        \"description\": \"\"\n      }\n    },\n    {\n      \"column\": \"AveRooms\",\n      \"properties\": {\n        \"dtype\": \"number\",\n        \"std\": 0.9705323807243326,\n        \"min\": 5.8173515981735155,\n        \"max\": 8.288135593220339,\n        \"num_unique_values\": 5,\n        \"samples\": [\n          6.238137082601054,\n          6.281853281853282,\n          8.288135593220339\n        ],\n        \"semantic_type\": \"\",\n        \"description\": \"\"\n      }\n    },\n    {\n      \"column\": \"AveBedrms\",\n      \"properties\": {\n        \"dtype\": \"number\",\n        \"std\": 0.04661885487529508,\n        \"min\": 0.9718804920913884,\n        \"max\": 1.0810810810810811,\n        \"num_unique_values\": 5,\n        \"samples\": [\n          0.9718804920913884,\n          1.0810810810810811,\n          1.073446327683616\n        ],\n        \"semantic_type\": \"\",\n        \"description\": \"\"\n      }\n    },\n    {\n      \"column\": \"Population\",\n      \"properties\": {\n        \"dtype\": \"number\",\n        \"std\": 862.3365352343596,\n        \"min\": 322.0,\n        \"max\": 2401.0,\n        \"num_unique_values\": 5,\n        \"samples\": [\n          2401.0,\n          565.0,\n          496.0\n        ],\n        \"semantic_type\": \"\",\n        \"description\": \"\"\n      }\n    },\n    {\n      \"column\": \"AveOccup\",\n      \"properties\": {\n        \"dtype\": \"number\",\n        \"std\": 0.2881316535489867,\n        \"min\": 2.109841827768014,\n        \"max\": 2.8022598870056497,\n        \"num_unique_values\": 5,\n        \"samples\": [\n          2.109841827768014,\n          2.1814671814671813,\n          2.8022598870056497\n        ],\n        \"semantic_type\": \"\",\n        \"description\": \"\"\n      }\n    },\n    {\n      \"column\": \"Latitude\",\n      \"properties\": {\n        \"dtype\": \"number\",\n        \"std\": 0.0130384048104057,\n        \"min\": 37.85,\n        \"max\": 37.88,\n        \"num_unique_values\": 3,\n        \"samples\": [\n          37.88,\n          37.86,\n          37.85\n        ],\n        \"semantic_type\": \"\",\n        \"description\": \"\"\n      }\n    },\n    {\n      \"column\": \"Longitude\",\n      \"properties\": {\n        \"dtype\": \"number\",\n        \"std\": 0.013038404810404884,\n        \"min\": -122.25,\n        \"max\": -122.22,\n        \"num_unique_values\": 4,\n        \"samples\": [\n          -122.22,\n          -122.25,\n          -122.23\n        ],\n        \"semantic_type\": \"\",\n        \"description\": \"\"\n      }\n    },\n    {\n      \"column\": \"MedHouseVal\",\n      \"properties\": {\n        \"dtype\": \"number\",\n        \"std\": 0.4708973348830931,\n        \"min\": 3.413,\n        \"max\": 4.526,\n        \"num_unique_values\": 5,\n        \"samples\": [\n          3.585,\n          3.422,\n          3.521\n        ],\n        \"semantic_type\": \"\",\n        \"description\": \"\"\n      }\n    }\n  ]\n}"
            }
          },
          "metadata": {}
        },
        {
          "output_type": "stream",
          "name": "stdout",
          "text": [
            "\n",
            "Dataset shape: (100, 9)\n"
          ]
        }
      ]
    },
    {
      "cell_type": "code",
      "metadata": {
        "colab": {
          "base_uri": "https://localhost:8080/"
        },
        "id": "49f817ec",
        "outputId": "52375c59-ff3b-4ad5-bb92-0847fd32776a"
      },
      "source": [
        "# Step 2: Prepare the data for ML\n",
        "# Define features (X) and target (y)\n",
        "X_large = df_large.drop('MedHouseVal', axis=1)\n",
        "y_large = df_large['MedHouseVal']\n",
        "\n",
        "# Split the data into training and testing sets\n",
        "# Using a test size of 20%\n",
        "X_train_large, X_test_large, y_train_large, y_test_large = train_test_split(X_large, y_large, test_size=0.2, random_state=42)\n",
        "\n",
        "print(\"✂️ Training Data (Large Dataset):\", X_train_large.shape)\n",
        "print(\"✂️ Testing Data (Large Dataset):\", X_test_large.shape)"
      ],
      "execution_count": 25,
      "outputs": [
        {
          "output_type": "stream",
          "name": "stdout",
          "text": [
            "✂️ Training Data (Large Dataset): (80, 8)\n",
            "✂️ Testing Data (Large Dataset): (20, 8)\n"
          ]
        }
      ]
    },
    {
      "cell_type": "code",
      "metadata": {
        "colab": {
          "base_uri": "https://localhost:8080/"
        },
        "id": "5f4125ef",
        "outputId": "95697de9-6fd4-4408-ab16-47c2044b76f4"
      },
      "source": [
        "# Step 3: Train Linear Regression model\n",
        "from sklearn.linear_model import LinearRegression\n",
        "\n",
        "lr_model_large_500 = LinearRegression() # Changed variable name\n",
        "lr_model_large_500.fit(X_train_large, y_train_large)\n",
        "\n",
        "print(\"🤖 Linear Regression Model trained on large dataset (500 samples)!\")"
      ],
      "execution_count": 26,
      "outputs": [
        {
          "output_type": "stream",
          "name": "stdout",
          "text": [
            "🤖 Linear Regression Model trained on large dataset (500 samples)!\n"
          ]
        }
      ]
    },
    {
      "cell_type": "code",
      "metadata": {
        "colab": {
          "base_uri": "https://localhost:8080/"
        },
        "id": "c515e6fb",
        "outputId": "47af74c4-e6b2-40c0-dbb5-8afb24460af9"
      },
      "source": [
        "# Step 4: Train Decision Tree Regressor model\n",
        "from sklearn.tree import DecisionTreeRegressor\n",
        "\n",
        "dt_model_large_500 = DecisionTreeRegressor(random_state=42) # Changed variable name\n",
        "dt_model_large_500.fit(X_train_large, y_train_large)\n",
        "\n",
        "print(\"🤖 Decision Tree Regressor model trained on large dataset (500 samples)!\")"
      ],
      "execution_count": 27,
      "outputs": [
        {
          "output_type": "stream",
          "name": "stdout",
          "text": [
            "🤖 Decision Tree Regressor model trained on large dataset (500 samples)!\n"
          ]
        }
      ]
    },
    {
      "cell_type": "code",
      "metadata": {
        "colab": {
          "base_uri": "https://localhost:8080/"
        },
        "id": "db94ea63",
        "outputId": "6557f9b8-ea84-456d-e56b-7aa44d418172"
      },
      "source": [
        "# Step 5: Evaluate Linear Regression model\n",
        "score_lr_large_500 = lr_model_large_500.score(X_test_large, y_test_large) # Changed variable name\n",
        "print(\"📝 Linear Regression Model Accuracy (R² Score) on large dataset (500 samples):\", round(score_lr_large_500 * 100, 2), \"%\")"
      ],
      "execution_count": 28,
      "outputs": [
        {
          "output_type": "stream",
          "name": "stdout",
          "text": [
            "📝 Linear Regression Model Accuracy (R² Score) on large dataset (500 samples): 71.21 %\n"
          ]
        }
      ]
    },
    {
      "cell_type": "code",
      "metadata": {
        "colab": {
          "base_uri": "https://localhost:8080/"
        },
        "id": "e4abb78c",
        "outputId": "2adb68d3-2119-44e5-ae78-0aed64f27354"
      },
      "source": [
        "# Step 5: Evaluate Decision Tree Regressor model\n",
        "score_dt_large_500 = dt_model_large_500.score(X_test_large, y_test_large) # Changed variable name\n",
        "print(\"📝 Decision Tree Regressor Model Accuracy (R² Score) on large dataset (500 samples):\", round(score_dt_large_500 * 100, 2), \"%\")"
      ],
      "execution_count": 29,
      "outputs": [
        {
          "output_type": "stream",
          "name": "stdout",
          "text": [
            "📝 Decision Tree Regressor Model Accuracy (R² Score) on large dataset (500 samples): 81.06 %\n"
          ]
        }
      ]
    },
    {
      "cell_type": "markdown",
      "metadata": {
        "id": "1e00b31c"
      },
      "source": [
        "## Exam Score Predictor and Model Comparison\n",
        "\n",
        "This notebook demonstrates building a simple model to predict exam scores based on study hours and sleep hours, and then explores the performance of two different regression models (Linear Regression and Decision Tree Regressor) on datasets of varying sizes.\n",
        "\n",
        "**Sections:**\n",
        "\n",
        "1.  **Initial Data and Linear Regression:** Building a basic model with a small dataset.\n",
        "2.  **Adding a Feature:** Incorporating 'Sleep Hours' into the dataset and model.\n",
        "3.  **Decision Tree Regressor:** Training and evaluating a Decision Tree model for comparison.\n",
        "4.  **Impact of Data Size:** Comparing model performance on different subsets of a larger dataset (California Housing)."
      ]
    },
    {
      "cell_type": "markdown",
      "metadata": {
        "id": "be34acee"
      },
      "source": [
        "### Initial Data and Linear Regression\n",
        "\n",
        "This section sets up a simple dataset and trains a Linear Regression model to predict exam scores based on hours studied."
      ]
    },
    {
      "cell_type": "markdown",
      "metadata": {
        "id": "3d2aa5cd"
      },
      "source": [
        "### Adding a Feature: Sleep Hours\n",
        "\n",
        "Here, we add 'Sleep Hours' as another feature to the dataset and update the data preparation to include this new feature."
      ]
    },
    {
      "cell_type": "markdown",
      "metadata": {
        "id": "97bacf0b"
      },
      "source": [
        "### Decision Tree Regressor\n",
        "\n",
        "This section introduces the Decision Tree Regressor as an alternative model and trains it on the updated dataset. We then compare its predictions and accuracy to the Linear Regression model."
      ]
    },
    {
      "cell_type": "markdown",
      "metadata": {
        "id": "6eb71be1"
      },
      "source": [
        "### Impact of Data Size\n",
        "\n",
        "In this section, we use a larger, more complex dataset (California Housing) to see how Linear Regression and Decision Tree Regressor perform with more data. We compare their accuracy on subsets of this dataset."
      ]
    },
    {
      "cell_type": "markdown",
      "metadata": {
        "id": "06dfed0e"
      },
      "source": [
        "**Comparison of Results:**\n",
        "\n",
        "We observed how the performance of Linear Regression and Decision Tree Regressor can vary depending on the dataset size and complexity. For the small, relatively linear dataset, both models performed well, with Linear Regression showing a slight edge initially. With the larger California Housing dataset, Linear Regression performed slightly better on the 500-sample subset compared to the Decision Tree. This highlights the importance of considering the nature of your data and the strengths of different models when choosing the best approach for your task."
      ]
    },
    {
      "cell_type": "code",
      "metadata": {
        "colab": {
          "base_uri": "https://localhost:8080/"
        },
        "id": "e0c89bb6",
        "outputId": "66a3c997-f38a-45b7-8062-fb34bda31bdd"
      },
      "source": [
        "# Step 2: Prepare the data for ML (100 samples)\n",
        "# Define features (X) and target (y) for the 100-sample dataset\n",
        "X_large_100 = df_large.drop('MedHouseVal', axis=1)\n",
        "y_large_100 = df_large['MedHouseVal']\n",
        "\n",
        "# Split the data into training and testing sets for the 100-sample dataset\n",
        "# Using a test size of 20%\n",
        "X_train_large_100, X_test_large_100, y_train_large_100, y_test_large_100 = train_test_split(X_large_100, y_large_100, test_size=0.2, random_state=42)\n",
        "\n",
        "print(\"✂️ Training Data (100 Samples):\", X_train_large_100.shape)\n",
        "print(\"✂️ Testing Data (100 Samples):\", X_test_large_100.shape)"
      ],
      "execution_count": 30,
      "outputs": [
        {
          "output_type": "stream",
          "name": "stdout",
          "text": [
            "✂️ Training Data (100 Samples): (80, 8)\n",
            "✂️ Testing Data (100 Samples): (20, 8)\n"
          ]
        }
      ]
    },
    {
      "cell_type": "code",
      "metadata": {
        "colab": {
          "base_uri": "https://localhost:8080/"
        },
        "id": "a38b789f",
        "outputId": "d8907ff5-dd8d-46e7-b4d5-ecc699ba18d5"
      },
      "source": [
        "# Step 3: Train Linear Regression model on 100 samples\n",
        "from sklearn.linear_model import LinearRegression\n",
        "\n",
        "lr_model_large_100 = LinearRegression()\n",
        "lr_model_large_100.fit(X_train_large_100, y_train_large_100)\n",
        "\n",
        "print(\"🤖 Linear Regression Model trained on 100 samples!\")"
      ],
      "execution_count": 31,
      "outputs": [
        {
          "output_type": "stream",
          "name": "stdout",
          "text": [
            "🤖 Linear Regression Model trained on 100 samples!\n"
          ]
        }
      ]
    },
    {
      "cell_type": "code",
      "metadata": {
        "colab": {
          "base_uri": "https://localhost:8080/"
        },
        "id": "c40c76ab",
        "outputId": "57507908-ab2a-4278-d40b-7c0f1d8c0ae4"
      },
      "source": [
        "# Step 4: Train Decision Tree Regressor model on 100 samples\n",
        "from sklearn.tree import DecisionTreeRegressor\n",
        "\n",
        "dt_model_large_100 = DecisionTreeRegressor(random_state=42)\n",
        "dt_model_large_100.fit(X_train_large_100, y_train_large_100)\n",
        "\n",
        "print(\"🤖 Decision Tree Regressor model trained on 100 samples!\")"
      ],
      "execution_count": 32,
      "outputs": [
        {
          "output_type": "stream",
          "name": "stdout",
          "text": [
            "🤖 Decision Tree Regressor model trained on 100 samples!\n"
          ]
        }
      ]
    },
    {
      "cell_type": "code",
      "metadata": {
        "colab": {
          "base_uri": "https://localhost:8080/"
        },
        "id": "06f663a0",
        "outputId": "ab9bb6b2-72f5-4e39-ad42-baa80ea0d8ad"
      },
      "source": [
        "# Step 5: Evaluate Linear Regression model on 100 samples\n",
        "score_lr_large_100 = lr_model_large_100.score(X_test_large_100, y_test_large_100)\n",
        "print(\"📝 Linear Regression Model Accuracy (R² Score) on 100 samples:\", round(score_lr_large_100 * 100, 2), \"%\")"
      ],
      "execution_count": 33,
      "outputs": [
        {
          "output_type": "stream",
          "name": "stdout",
          "text": [
            "📝 Linear Regression Model Accuracy (R² Score) on 100 samples: 71.21 %\n"
          ]
        }
      ]
    },
    {
      "cell_type": "code",
      "metadata": {
        "colab": {
          "base_uri": "https://localhost:8080/"
        },
        "id": "d47cad9e",
        "outputId": "4cf292c2-6b75-4ec3-c569-e5fe37ec244f"
      },
      "source": [
        "# Step 5: Evaluate Decision Tree Regressor model on 100 samples\n",
        "score_dt_large_100 = dt_model_large_100.score(X_test_large_100, y_test_large_100)\n",
        "print(\"📝 Decision Tree Regressor Model Accuracy (R² Score) on 100 samples:\", round(score_dt_large_100 * 100, 2), \"%\")"
      ],
      "execution_count": 34,
      "outputs": [
        {
          "output_type": "stream",
          "name": "stdout",
          "text": [
            "📝 Decision Tree Regressor Model Accuracy (R² Score) on 100 samples: 81.06 %\n"
          ]
        }
      ]
    },
    {
      "cell_type": "code",
      "source": [],
      "metadata": {
        "id": "oYyZ2TF9geNw"
      },
      "execution_count": null,
      "outputs": []
    },
    {
      "cell_type": "markdown",
      "metadata": {
        "id": "d9ba9efe"
      },
      "source": [
        "## Neural Network Model for Exam Score Prediction\n",
        "\n",
        "This section focuses on building and evaluating a neural network model to predict exam scores using the dataset with 'Hours Studied' and 'Sleep Hours'."
      ]
    },
    {
      "cell_type": "code",
      "metadata": {
        "colab": {
          "base_uri": "https://localhost:8080/"
        },
        "id": "59d75848",
        "outputId": "1e97def1-c5c4-4f32-c3d1-2d6c2b5592d7"
      },
      "source": [
        "# Step 1: Import necessary libraries for Neural Networks\n",
        "import tensorflow as tf\n",
        "from tensorflow import keras\n",
        "from tensorflow.keras.layers import Dense\n",
        "from sklearn.model_selection import train_test_split\n",
        "import pandas as pd\n",
        "import numpy as np\n",
        "\n",
        "print(\"✅ Neural Network Libraries loaded!\")"
      ],
      "execution_count": 35,
      "outputs": [
        {
          "output_type": "stream",
          "name": "stdout",
          "text": [
            "✅ Neural Network Libraries loaded!\n"
          ]
        }
      ]
    },
    {
      "cell_type": "code",
      "metadata": {
        "colab": {
          "base_uri": "https://localhost:8080/"
        },
        "id": "2c27c04c",
        "outputId": "1d61231c-e221-43fd-b030-9aa32d6859c3"
      },
      "source": [
        "# Assuming 'df' DataFrame with 'Hours_Studied', 'Sleep_Hours', and 'Exam_Score' exists from previous steps.\n",
        "# If not, recreate it:\n",
        "data = {\n",
        "    \"Hours_Studied\": [1, 2, 3, 4, 5, 6, 7, 8, 9, 10],\n",
        "    \"Exam_Score\": [20, 40, 60, 65, 70, 80, 85, 90, 95, 100],\n",
        "    \"Sleep_Hours\": [7, 8, 6, 7, 8, 7, 9, 8, 9, 7]\n",
        "}\n",
        "df = pd.DataFrame(data)\n",
        "\n",
        "# Step 2: Prepare Data for Neural Network\n",
        "X = df[[\"Hours_Studied\", \"Sleep_Hours\"]]  # Input features\n",
        "y = df[\"Exam_Score\"]       # Target\n",
        "\n",
        "# Split data into training and testing sets\n",
        "X_train_nn, X_test_nn, y_train_nn, y_test_nn = train_test_split(X, y, test_size=0.2, random_state=42)\n",
        "\n",
        "print(\"✂️ Data prepared for Neural Network:\")\n",
        "print(\"Training Data shape:\", X_train_nn.shape)\n",
        "print(\"Testing Data shape:\", X_test_nn.shape)"
      ],
      "execution_count": 36,
      "outputs": [
        {
          "output_type": "stream",
          "name": "stdout",
          "text": [
            "✂️ Data prepared for Neural Network:\n",
            "Training Data shape: (8, 2)\n",
            "Testing Data shape: (2, 2)\n"
          ]
        }
      ]
    },
    {
      "cell_type": "code",
      "metadata": {
        "colab": {
          "base_uri": "https://localhost:8080/",
          "height": 300
        },
        "id": "4dc92837",
        "outputId": "277a4a44-d926-474a-e200-a5015985e37d"
      },
      "source": [
        "# Step 3: Build the Neural Network Model\n",
        "model_nn = keras.Sequential([\n",
        "    Dense(64, activation='relu', input_shape=(X_train_nn.shape[1],)), # Input layer with 64 neurons and ReLU activation\n",
        "    Dense(64, activation='relu'), # Hidden layer with 64 neurons and ReLU activation\n",
        "    Dense(1) # Output layer with 1 neuron for regression\n",
        "])\n",
        "\n",
        "# Step 4: Compile the Model\n",
        "model_nn.compile(optimizer='adam', loss='mse', metrics=['mae']) # Using Adam optimizer, Mean Squared Error loss, and Mean Absolute Error metric\n",
        "\n",
        "model_nn.summary()\n",
        "print(\"✅ Neural Network Model built and compiled!\")"
      ],
      "execution_count": 37,
      "outputs": [
        {
          "output_type": "stream",
          "name": "stderr",
          "text": [
            "/usr/local/lib/python3.12/dist-packages/keras/src/layers/core/dense.py:93: UserWarning: Do not pass an `input_shape`/`input_dim` argument to a layer. When using Sequential models, prefer using an `Input(shape)` object as the first layer in the model instead.\n",
            "  super().__init__(activity_regularizer=activity_regularizer, **kwargs)\n"
          ]
        },
        {
          "output_type": "display_data",
          "data": {
            "text/plain": [
              "\u001b[1mModel: \"sequential\"\u001b[0m\n"
            ],
            "text/html": [
              "<pre style=\"white-space:pre;overflow-x:auto;line-height:normal;font-family:Menlo,'DejaVu Sans Mono',consolas,'Courier New',monospace\"><span style=\"font-weight: bold\">Model: \"sequential\"</span>\n",
              "</pre>\n"
            ]
          },
          "metadata": {}
        },
        {
          "output_type": "display_data",
          "data": {
            "text/plain": [
              "┏━━━━━━━━━━━━━━━━━━━━━━━━━━━━━━━━━┳━━━━━━━━━━━━━━━━━━━━━━━━┳━━━━━━━━━━━━━━━┓\n",
              "┃\u001b[1m \u001b[0m\u001b[1mLayer (type)                   \u001b[0m\u001b[1m \u001b[0m┃\u001b[1m \u001b[0m\u001b[1mOutput Shape          \u001b[0m\u001b[1m \u001b[0m┃\u001b[1m \u001b[0m\u001b[1m      Param #\u001b[0m\u001b[1m \u001b[0m┃\n",
              "┡━━━━━━━━━━━━━━━━━━━━━━━━━━━━━━━━━╇━━━━━━━━━━━━━━━━━━━━━━━━╇━━━━━━━━━━━━━━━┩\n",
              "│ dense (\u001b[38;5;33mDense\u001b[0m)                   │ (\u001b[38;5;45mNone\u001b[0m, \u001b[38;5;34m64\u001b[0m)             │           \u001b[38;5;34m192\u001b[0m │\n",
              "├─────────────────────────────────┼────────────────────────┼───────────────┤\n",
              "│ dense_1 (\u001b[38;5;33mDense\u001b[0m)                 │ (\u001b[38;5;45mNone\u001b[0m, \u001b[38;5;34m64\u001b[0m)             │         \u001b[38;5;34m4,160\u001b[0m │\n",
              "├─────────────────────────────────┼────────────────────────┼───────────────┤\n",
              "│ dense_2 (\u001b[38;5;33mDense\u001b[0m)                 │ (\u001b[38;5;45mNone\u001b[0m, \u001b[38;5;34m1\u001b[0m)              │            \u001b[38;5;34m65\u001b[0m │\n",
              "└─────────────────────────────────┴────────────────────────┴───────────────┘\n"
            ],
            "text/html": [
              "<pre style=\"white-space:pre;overflow-x:auto;line-height:normal;font-family:Menlo,'DejaVu Sans Mono',consolas,'Courier New',monospace\">┏━━━━━━━━━━━━━━━━━━━━━━━━━━━━━━━━━┳━━━━━━━━━━━━━━━━━━━━━━━━┳━━━━━━━━━━━━━━━┓\n",
              "┃<span style=\"font-weight: bold\"> Layer (type)                    </span>┃<span style=\"font-weight: bold\"> Output Shape           </span>┃<span style=\"font-weight: bold\">       Param # </span>┃\n",
              "┡━━━━━━━━━━━━━━━━━━━━━━━━━━━━━━━━━╇━━━━━━━━━━━━━━━━━━━━━━━━╇━━━━━━━━━━━━━━━┩\n",
              "│ dense (<span style=\"color: #0087ff; text-decoration-color: #0087ff\">Dense</span>)                   │ (<span style=\"color: #00d7ff; text-decoration-color: #00d7ff\">None</span>, <span style=\"color: #00af00; text-decoration-color: #00af00\">64</span>)             │           <span style=\"color: #00af00; text-decoration-color: #00af00\">192</span> │\n",
              "├─────────────────────────────────┼────────────────────────┼───────────────┤\n",
              "│ dense_1 (<span style=\"color: #0087ff; text-decoration-color: #0087ff\">Dense</span>)                 │ (<span style=\"color: #00d7ff; text-decoration-color: #00d7ff\">None</span>, <span style=\"color: #00af00; text-decoration-color: #00af00\">64</span>)             │         <span style=\"color: #00af00; text-decoration-color: #00af00\">4,160</span> │\n",
              "├─────────────────────────────────┼────────────────────────┼───────────────┤\n",
              "│ dense_2 (<span style=\"color: #0087ff; text-decoration-color: #0087ff\">Dense</span>)                 │ (<span style=\"color: #00d7ff; text-decoration-color: #00d7ff\">None</span>, <span style=\"color: #00af00; text-decoration-color: #00af00\">1</span>)              │            <span style=\"color: #00af00; text-decoration-color: #00af00\">65</span> │\n",
              "└─────────────────────────────────┴────────────────────────┴───────────────┘\n",
              "</pre>\n"
            ]
          },
          "metadata": {}
        },
        {
          "output_type": "display_data",
          "data": {
            "text/plain": [
              "\u001b[1m Total params: \u001b[0m\u001b[38;5;34m4,417\u001b[0m (17.25 KB)\n"
            ],
            "text/html": [
              "<pre style=\"white-space:pre;overflow-x:auto;line-height:normal;font-family:Menlo,'DejaVu Sans Mono',consolas,'Courier New',monospace\"><span style=\"font-weight: bold\"> Total params: </span><span style=\"color: #00af00; text-decoration-color: #00af00\">4,417</span> (17.25 KB)\n",
              "</pre>\n"
            ]
          },
          "metadata": {}
        },
        {
          "output_type": "display_data",
          "data": {
            "text/plain": [
              "\u001b[1m Trainable params: \u001b[0m\u001b[38;5;34m4,417\u001b[0m (17.25 KB)\n"
            ],
            "text/html": [
              "<pre style=\"white-space:pre;overflow-x:auto;line-height:normal;font-family:Menlo,'DejaVu Sans Mono',consolas,'Courier New',monospace\"><span style=\"font-weight: bold\"> Trainable params: </span><span style=\"color: #00af00; text-decoration-color: #00af00\">4,417</span> (17.25 KB)\n",
              "</pre>\n"
            ]
          },
          "metadata": {}
        },
        {
          "output_type": "display_data",
          "data": {
            "text/plain": [
              "\u001b[1m Non-trainable params: \u001b[0m\u001b[38;5;34m0\u001b[0m (0.00 B)\n"
            ],
            "text/html": [
              "<pre style=\"white-space:pre;overflow-x:auto;line-height:normal;font-family:Menlo,'DejaVu Sans Mono',consolas,'Courier New',monospace\"><span style=\"font-weight: bold\"> Non-trainable params: </span><span style=\"color: #00af00; text-decoration-color: #00af00\">0</span> (0.00 B)\n",
              "</pre>\n"
            ]
          },
          "metadata": {}
        },
        {
          "output_type": "stream",
          "name": "stdout",
          "text": [
            "✅ Neural Network Model built and compiled!\n"
          ]
        }
      ]
    },
    {
      "cell_type": "code",
      "metadata": {
        "colab": {
          "base_uri": "https://localhost:8080/"
        },
        "id": "5240c7d3",
        "outputId": "9c9cb144-38de-4343-e9c9-3456e041092c"
      },
      "source": [
        "# Step 5: Train the Model\n",
        "history = model_nn.fit(X_train_nn, y_train_nn, epochs=100, validation_split=0.2, verbose=0) # Train for 100 epochs, using 20% of training data for validation\n",
        "\n",
        "print(\"🤖 Neural Network Model trained!\")"
      ],
      "execution_count": 38,
      "outputs": [
        {
          "output_type": "stream",
          "name": "stdout",
          "text": [
            "🤖 Neural Network Model trained!\n"
          ]
        }
      ]
    },
    {
      "cell_type": "code",
      "metadata": {
        "colab": {
          "base_uri": "https://localhost:8080/"
        },
        "id": "406a2c81",
        "outputId": "68348ffd-a516-450e-ed0e-622ab84ed264"
      },
      "source": [
        "# Step 6: Evaluate the Model\n",
        "loss, mae = model_nn.evaluate(X_test_nn, y_test_nn, verbose=0)\n",
        "\n",
        "print(f\"📝 Neural Network Model Evaluation:\")\n",
        "print(f\"Mean Squared Error (MSE): {loss:.2f}\")\n",
        "print(f\"Mean Absolute Error (MAE): {mae:.2f}\")"
      ],
      "execution_count": 39,
      "outputs": [
        {
          "output_type": "stream",
          "name": "stdout",
          "text": [
            "📝 Neural Network Model Evaluation:\n",
            "Mean Squared Error (MSE): 107.72\n",
            "Mean Absolute Error (MAE): 10.22\n"
          ]
        }
      ]
    },
    {
      "cell_type": "code",
      "metadata": {
        "colab": {
          "base_uri": "https://localhost:8080/"
        },
        "id": "1046f70c",
        "outputId": "28d338d7-96f1-4bab-892e-8f785d7858e4"
      },
      "source": [
        "# Step 7: Make Predictions with the Neural Network Model\n",
        "y_pred_nn = model_nn.predict(X_test_nn).flatten() # Flatten predictions to match the shape of y_test\n",
        "\n",
        "print(\"🧠 Neural Network Model Predictions vs Actual:\")\n",
        "predictions_df_nn = pd.DataFrame({\"Actual\": y_test_nn.values.flatten(), \"Predicted\": y_pred_nn})\n",
        "print(predictions_df_nn)"
      ],
      "execution_count": 40,
      "outputs": [
        {
          "output_type": "stream",
          "name": "stdout",
          "text": [
            "\u001b[1m1/1\u001b[0m \u001b[32m━━━━━━━━━━━━━━━━━━━━\u001b[0m\u001b[37m\u001b[0m \u001b[1m0s\u001b[0m 86ms/step\n",
            "🧠 Neural Network Model Predictions vs Actual:\n",
            "   Actual  Predicted\n",
            "0      95  86.586662\n",
            "1      40  52.027313\n"
          ]
        }
      ]
    },
    {
      "cell_type": "code",
      "metadata": {
        "colab": {
          "base_uri": "https://localhost:8080/",
          "height": 489
        },
        "id": "569566c1",
        "outputId": "3c4d282e-90db-4522-a487-35257be3ad9b"
      },
      "source": [
        "# Step 8: Plot Prediction Errors\n",
        "import matplotlib.pyplot as plt\n",
        "\n",
        "errors_nn = y_test_nn.values.flatten() - y_pred_nn\n",
        "\n",
        "plt.scatter(y_test_nn, errors_nn)\n",
        "plt.axhline(y=0, color='r', linestyle='-')\n",
        "plt.xlabel(\"Actual Exam Score\")\n",
        "plt.ylabel(\"Prediction Error (Actual - Predicted)\")\n",
        "plt.title(\"Neural Network Model Prediction Errors\")\n",
        "plt.show()\n",
        "\n",
        "print(\"📊 Prediction errors plotted!\")"
      ],
      "execution_count": 41,
      "outputs": [
        {
          "output_type": "display_data",
          "data": {
            "text/plain": [
              "<Figure size 640x480 with 1 Axes>"
            ],
            "image/png": "[encoded data removed]"
          },
          "metadata": {}
        },
        {
          "output_type": "stream",
          "name": "stdout",
          "text": [
            "📊 Prediction errors plotted!\n"
          ]
        }
      ]
    },
    {
      "cell_type": "code",
      "source": [
        "# Save the Linear Regression model from the exam score predictor\n",
        "import joblib\n",
        "\n",
        "# Save the Linear Regression model\n",
        "joblib.dump(model, 'exam_score_linear_regression_model.joblib')\n",
        "print(\"✅ Linear Regression model saved as 'exam_score_linear_regression_model.joblib'\")\n",
        "\n",
        "# Save the Decision Tree model\n",
        "joblib.dump(dt_model, 'exam_score_decision_tree_model.joblib')\n",
        "print(\"✅ Decision Tree model saved as 'exam_score_decision_tree_model.joblib'\")\n",
        "\n",
        "# Save the California Housing models if they exist\n",
        "try:\n",
        "    joblib.dump(lr_model_large_100, 'california_housing_linear_regression_100.joblib')\n",
        "    print(\"✅ California Housing Linear Regression (100 samples) saved\")\n",
        "except NameError:\n",
        "    print(\"California Housing Linear Regression (100 samples) model not found\")\n",
        "\n",
        "try:\n",
        "    joblib.dump(dt_model_large_100, 'california_housing_decision_tree_100.joblib')\n",
        "    print(\"✅ California Housing Decision Tree (100 samples) saved\")\n",
        "except NameError:\n",
        "    print(\"California Housing Decision Tree (100 samples) model not found\")\n",
        "\n",
        "try:\n",
        "    joblib.dump(lr_model_large_500, 'california_housing_linear_regression_500.joblib')\n",
        "    print(\"✅ California Housing Linear Regression (500 samples) saved\")\n",
        "except NameError:\n",
        "    print(\"California Housing Linear Regression (500 samples) model not found\")\n",
        "\n",
        "try:\n",
        "    joblib.dump(dt_model_large_500, 'california_housing_decision_tree_500.joblib')\n",
        "    print(\"✅ California Housing Decision Tree (500 samples) saved\")\n",
        "except NameError:\n",
        "    print(\"California Housing Decision Tree (500 samples) model not found\")"
      ],
      "metadata": {
        "colab": {
          "base_uri": "https://localhost:8080/"
        },
        "id": "pp_-Y15A9yXJ",
        "outputId": "a175e918-9140-43ed-acc1-4d112341fbc3"
      },
      "execution_count": 42,
      "outputs": [
        {
          "output_type": "stream",
          "name": "stdout",
          "text": [
            "✅ Linear Regression model saved as 'exam_score_linear_regression_model.joblib'\n",
            "✅ Decision Tree model saved as 'exam_score_decision_tree_model.joblib'\n",
            "✅ California Housing Linear Regression (100 samples) saved\n",
            "✅ California Housing Decision Tree (100 samples) saved\n",
            "✅ California Housing Linear Regression (500 samples) saved\n",
            "✅ California Housing Decision Tree (500 samples) saved\n"
          ]
        }
      ]
    },
    {
      "cell_type": "code",
      "source": [
        "# Load a saved model\n",
        "loaded_model = joblib.load('exam_score_linear_regression_model.joblib')\n",
        "\n",
        "# Use the loaded model for predictions\n",
        "hours = float(input(\"Enter hours studied (e.g., 4.5): \"))\n",
        "sleep_hours = float(input(\"Enter sleep hours (e.g., 7.5): \"))\n",
        "pred_score = loaded_model.predict([[hours, sleep_hours]])[0]\n",
        "print(f\"🎯 Predicted Exam Score: {round(pred_score, 2)}%\")"
      ],
      "metadata": {
        "colab": {
          "base_uri": "https://localhost:8080/"
        },
        "id": "AHhTGi-D_EyX",
        "outputId": "c5133004-daaf-4c7b-91fe-3e86e45da3b5"
      },
      "execution_count": 43,
      "outputs": [
        {
          "output_type": "stream",
          "name": "stdout",
          "text": [
            "Enter hours studied (e.g., 4.5): 3\n",
            "Enter sleep hours (e.g., 7.5): 4\n",
            "🎯 Predicted Exam Score: 53.81%\n"
          ]
        },
        {
          "output_type": "stream",
          "name": "stderr",
          "text": [
            "/usr/local/lib/python3.12/dist-packages/sklearn/utils/validation.py:2739: UserWarning: X does not have valid feature names, but LinearRegression was fitted with feature names\n",
            "  warnings.warn(\n"
          ]
        }
      ]
    }
  ]
}